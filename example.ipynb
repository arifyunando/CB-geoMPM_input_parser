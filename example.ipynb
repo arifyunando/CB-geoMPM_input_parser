{
 "cells": [
  {
   "cell_type": "code",
   "execution_count": 1,
   "metadata": {},
   "outputs": [
    {
     "data": {
      "image/png": "[encoded data removed]",
      "text/plain": [
       "<Figure size 432x288 with 1 Axes>"
      ]
     },
     "metadata": {
      "needs_background": "light"
     },
     "output_type": "display_data"
    }
   ],
   "source": [
    "import mp_parser\n",
    "import matplotlib.pyplot as plt\n",
    "\n",
    "a = mp_parser.mesh(.5)\n",
    "a.setMesh(40, 25)\n",
    "filled = a.nodes\n",
    "# print(filled)\n",
    "x = [i[0] for i in filled]\n",
    "y = [i[1] for i in filled]\n",
    "plt.plot(x,y, '.')\n",
    "plt.axis('scaled')\n",
    "plt.show()\n",
    "\n",
    "a.printFile(digits = 3)"
   ]
  },
  {
   "cell_type": "code",
   "execution_count": 7,
   "metadata": {},
   "outputs": [
    {
     "data": {
      "image/png": "[encoded data removed]",
      "text/plain": [
       "<Figure size 432x288 with 1 Axes>"
      ]
     },
     "metadata": {
      "needs_background": "light"
     },
     "output_type": "display_data"
    }
   ],
   "source": [
    "import mp_parser\n",
    "import matplotlib.pyplot as plt\n",
    "\n",
    "points = [\n",
    "    (0  , 0),\n",
    "    (39.875, 0),\n",
    "    (39.875, 14.875),\n",
    "    (0  , 14.875)\n",
    "]\n",
    "\n",
    "b = mp_parser.particle(points, delta = 0.125)\n",
    "b.translate(0.0625, 0.0625)\n",
    "\n",
    "filled = b.nodes\n",
    "x = [i[0] for i in filled]\n",
    "y = [i[1] for i in filled]\n",
    "plt.plot(x,y, '.')\n",
    "plt.axis('scaled')\n",
    "plt.show()\n",
    "\n",
    "b.printFile(fileName = 'soil', digits=4)"
   ]
  },
  {
   "cell_type": "code",
   "execution_count": 3,
   "metadata": {},
   "outputs": [
    {
     "data": {
      "image/png": "[encoded data removed]",
      "text/plain": [
       "<Figure size 432x288 with 1 Axes>"
      ]
     },
     "metadata": {
      "needs_background": "light"
     },
     "output_type": "display_data"
    },
    {
     "name": "stdout",
     "output_type": "stream",
     "text": [
      "[[18.125, 15.125], [18.375, 15.125], [18.625, 15.125], [18.875, 15.125], [19.125, 15.125], [19.375, 15.125], [19.625, 15.125], [19.875, 15.125], [20.125, 15.125], [20.375, 15.125], [20.625, 15.125], [20.875, 15.125], [21.125, 15.125], [21.375, 15.125], [21.625, 15.125], [21.875, 15.125], [18.125, 15.375], [18.375, 15.375], [18.625, 15.375], [18.875, 15.375], [19.125, 15.375], [19.375, 15.375], [19.625, 15.375], [19.875, 15.375], [20.125, 15.375], [20.375, 15.375], [20.625, 15.375], [20.875, 15.375], [21.125, 15.375], [21.375, 15.375], [21.625, 15.375], [21.875, 15.375], [18.125, 15.625], [18.375, 15.625], [18.625, 15.625], [18.875, 15.625], [19.125, 15.625], [19.375, 15.625], [19.625, 15.625], [19.875, 15.625], [20.125, 15.625], [20.375, 15.625], [20.625, 15.625], [20.875, 15.625], [21.125, 15.625], [21.375, 15.625], [21.625, 15.625], [21.875, 15.625], [18.125, 15.875], [18.375, 15.875], [18.625, 15.875], [18.875, 15.875], [19.125, 15.875], [19.375, 15.875], [19.625, 15.875], [19.875, 15.875], [20.125, 15.875], [20.375, 15.875], [20.625, 15.875], [20.875, 15.875], [21.125, 15.875], [21.375, 15.875], [21.625, 15.875], [21.875, 15.875]]\n"
     ]
    }
   ],
   "source": [
    "points = [\n",
    "    (0  , 0),\n",
    "    (3.75, 0),\n",
    "    (3.75, 0.75),\n",
    "    (0  , 0.75)\n",
    "]\n",
    "\n",
    "b = mp_parser.particle(points, delta = 0.25)\n",
    "b.translate(18.125, 15.125)\n",
    "\n",
    "filled = b.nodes\n",
    "x = [i[0] for i in filled]\n",
    "y = [i[1] for i in filled]\n",
    "plt.plot(x,y, '.')\n",
    "plt.axis('scaled')\n",
    "plt.show()\n",
    "\n",
    "b.printFile(fileName = 'pondasi', digits=4)\n",
    "print(b.nodes)"
   ]
  },
  {
   "cell_type": "code",
   "execution_count": 4,
   "metadata": {},
   "outputs": [
    {
     "name": "stdout",
     "output_type": "stream",
     "text": [
      "0 [0.0, 0.0]\n",
      "80 [40.0, 0.0]\n",
      "81 [0.0, 0.5]\n",
      "161 [40.0, 0.5]\n",
      "162 [0.0, 1.0]\n",
      "242 [40.0, 1.0]\n",
      "243 [0.0, 1.5]\n",
      "323 [40.0, 1.5]\n",
      "324 [0.0, 2.0]\n",
      "404 [40.0, 2.0]\n",
      "405 [0.0, 2.5]\n",
      "485 [40.0, 2.5]\n",
      "486 [0.0, 3.0]\n",
      "566 [40.0, 3.0]\n",
      "567 [0.0, 3.5]\n",
      "647 [40.0, 3.5]\n",
      "648 [0.0, 4.0]\n",
      "728 [40.0, 4.0]\n",
      "729 [0.0, 4.5]\n",
      "809 [40.0, 4.5]\n",
      "810 [0.0, 5.0]\n",
      "890 [40.0, 5.0]\n",
      "891 [0.0, 5.5]\n",
      "971 [40.0, 5.5]\n",
      "972 [0.0, 6.0]\n",
      "1052 [40.0, 6.0]\n",
      "1053 [0.0, 6.5]\n",
      "1133 [40.0, 6.5]\n",
      "1134 [0.0, 7.0]\n",
      "1214 [40.0, 7.0]\n",
      "1215 [0.0, 7.5]\n",
      "1295 [40.0, 7.5]\n",
      "1296 [0.0, 8.0]\n",
      "1376 [40.0, 8.0]\n",
      "1377 [0.0, 8.5]\n",
      "1457 [40.0, 8.5]\n",
      "1458 [0.0, 9.0]\n",
      "1538 [40.0, 9.0]\n",
      "1539 [0.0, 9.5]\n",
      "1619 [40.0, 9.5]\n",
      "1620 [0.0, 10.0]\n",
      "1700 [40.0, 10.0]\n",
      "1701 [0.0, 10.5]\n",
      "1781 [40.0, 10.5]\n",
      "1782 [0.0, 11.0]\n",
      "1862 [40.0, 11.0]\n",
      "1863 [0.0, 11.5]\n",
      "1943 [40.0, 11.5]\n",
      "1944 [0.0, 12.0]\n",
      "2024 [40.0, 12.0]\n",
      "2025 [0.0, 12.5]\n",
      "2105 [40.0, 12.5]\n",
      "2106 [0.0, 13.0]\n",
      "2186 [40.0, 13.0]\n",
      "2187 [0.0, 13.5]\n",
      "2267 [40.0, 13.5]\n",
      "2268 [0.0, 14.0]\n",
      "2348 [40.0, 14.0]\n",
      "2349 [0.0, 14.5]\n",
      "2429 [40.0, 14.5]\n",
      "2430 [0.0, 15.0]\n",
      "2510 [40.0, 15.0]\n",
      "2511 [0.0, 15.5]\n",
      "2591 [40.0, 15.5]\n",
      "2592 [0.0, 16.0]\n",
      "2672 [40.0, 16.0]\n",
      "2673 [0.0, 16.5]\n",
      "2753 [40.0, 16.5]\n",
      "2754 [0.0, 17.0]\n",
      "2834 [40.0, 17.0]\n",
      "2835 [0.0, 17.5]\n",
      "2915 [40.0, 17.5]\n",
      "2916 [0.0, 18.0]\n",
      "2996 [40.0, 18.0]\n",
      "2997 [0.0, 18.5]\n",
      "3077 [40.0, 18.5]\n",
      "3078 [0.0, 19.0]\n",
      "3158 [40.0, 19.0]\n",
      "3159 [0.0, 19.5]\n",
      "3239 [40.0, 19.5]\n",
      "3240 [0.0, 20.0]\n",
      "3320 [40.0, 20.0]\n",
      "3321 [0.0, 20.5]\n",
      "3401 [40.0, 20.5]\n",
      "3402 [0.0, 21.0]\n",
      "3482 [40.0, 21.0]\n",
      "3483 [0.0, 21.5]\n",
      "3563 [40.0, 21.5]\n",
      "3564 [0.0, 22.0]\n",
      "3644 [40.0, 22.0]\n",
      "3645 [0.0, 22.5]\n",
      "3725 [40.0, 22.5]\n",
      "3726 [0.0, 23.0]\n",
      "3806 [40.0, 23.0]\n",
      "3807 [0.0, 23.5]\n",
      "3887 [40.0, 23.5]\n",
      "3888 [0.0, 24.0]\n",
      "3968 [40.0, 24.0]\n",
      "3969 [0.0, 24.5]\n",
      "4049 [40.0, 24.5]\n",
      "4050 [0.0, 25.0]\n",
      "4130 [40.0, 25.0]\n"
     ]
    }
   ],
   "source": [
    "nset = []\n",
    "for key, item in enumerate(a.nodes):\n",
    "    if item[0] == 0 or item[0] == 40:\n",
    "        print(key, item)\n",
    "        nset.append(key)"
   ]
  },
  {
   "cell_type": "code",
   "execution_count": 5,
   "metadata": {},
   "outputs": [
    {
     "name": "stdout",
     "output_type": "stream",
     "text": [
      "0 [0.0, 0.0]\n",
      "1 [0.5, 0.0]\n",
      "2 [1.0, 0.0]\n",
      "3 [1.5, 0.0]\n",
      "4 [2.0, 0.0]\n",
      "5 [2.5, 0.0]\n",
      "6 [3.0, 0.0]\n",
      "7 [3.5, 0.0]\n",
      "8 [4.0, 0.0]\n",
      "9 [4.5, 0.0]\n",
      "10 [5.0, 0.0]\n",
      "11 [5.5, 0.0]\n",
      "12 [6.0, 0.0]\n",
      "13 [6.5, 0.0]\n",
      "14 [7.0, 0.0]\n",
      "15 [7.5, 0.0]\n",
      "16 [8.0, 0.0]\n",
      "17 [8.5, 0.0]\n",
      "18 [9.0, 0.0]\n",
      "19 [9.5, 0.0]\n",
      "20 [10.0, 0.0]\n",
      "21 [10.5, 0.0]\n",
      "22 [11.0, 0.0]\n",
      "23 [11.5, 0.0]\n",
      "24 [12.0, 0.0]\n",
      "25 [12.5, 0.0]\n",
      "26 [13.0, 0.0]\n",
      "27 [13.5, 0.0]\n",
      "28 [14.0, 0.0]\n",
      "29 [14.5, 0.0]\n",
      "30 [15.0, 0.0]\n",
      "31 [15.5, 0.0]\n",
      "32 [16.0, 0.0]\n",
      "33 [16.5, 0.0]\n",
      "34 [17.0, 0.0]\n",
      "35 [17.5, 0.0]\n",
      "36 [18.0, 0.0]\n",
      "37 [18.5, 0.0]\n",
      "38 [19.0, 0.0]\n",
      "39 [19.5, 0.0]\n",
      "40 [20.0, 0.0]\n",
      "41 [20.5, 0.0]\n",
      "42 [21.0, 0.0]\n",
      "43 [21.5, 0.0]\n",
      "44 [22.0, 0.0]\n",
      "45 [22.5, 0.0]\n",
      "46 [23.0, 0.0]\n",
      "47 [23.5, 0.0]\n",
      "48 [24.0, 0.0]\n",
      "49 [24.5, 0.0]\n",
      "50 [25.0, 0.0]\n",
      "51 [25.5, 0.0]\n",
      "52 [26.0, 0.0]\n",
      "53 [26.5, 0.0]\n",
      "54 [27.0, 0.0]\n",
      "55 [27.5, 0.0]\n",
      "56 [28.0, 0.0]\n",
      "57 [28.5, 0.0]\n",
      "58 [29.0, 0.0]\n",
      "59 [29.5, 0.0]\n",
      "60 [30.0, 0.0]\n",
      "61 [30.5, 0.0]\n",
      "62 [31.0, 0.0]\n",
      "63 [31.5, 0.0]\n",
      "64 [32.0, 0.0]\n",
      "65 [32.5, 0.0]\n",
      "66 [33.0, 0.0]\n",
      "67 [33.5, 0.0]\n",
      "68 [34.0, 0.0]\n",
      "69 [34.5, 0.0]\n",
      "70 [35.0, 0.0]\n",
      "71 [35.5, 0.0]\n",
      "72 [36.0, 0.0]\n",
      "73 [36.5, 0.0]\n",
      "74 [37.0, 0.0]\n",
      "75 [37.5, 0.0]\n",
      "76 [38.0, 0.0]\n",
      "77 [38.5, 0.0]\n",
      "78 [39.0, 0.0]\n",
      "79 [39.5, 0.0]\n",
      "80 [40.0, 0.0]\n"
     ]
    }
   ],
   "source": [
    "nset2 = []\n",
    "for key, item in enumerate(a.nodes):\n",
    "    if item[1] == 0:\n",
    "        print(key, item)\n",
    "        nset2.append(key)"
   ]
  },
  {
   "cell_type": "code",
   "execution_count": 6,
   "metadata": {},
   "outputs": [
    {
     "name": "stdout",
     "output_type": "stream",
     "text": [
      "[0, 80, 81, 161, 162, 242, 243, 323, 324, 404, 405, 485, 486, 566, 567, 647, 648, 728, 729, 809, 810, 890, 891, 971, 972, 1052, 1053, 1133, 1134, 1214, 1215, 1295, 1296, 1376, 1377, 1457, 1458, 1538, 1539, 1619, 1620, 1700, 1701, 1781, 1782, 1862, 1863, 1943, 1944, 2024, 2025, 2105, 2106, 2186, 2187, 2267, 2268, 2348, 2349, 2429, 2430, 2510, 2511, 2591, 2592, 2672, 2673, 2753, 2754, 2834, 2835, 2915, 2916, 2996, 2997, 3077, 3078, 3158, 3159, 3239, 3240, 3320, 3321, 3401, 3402, 3482, 3483, 3563, 3564, 3644, 3645, 3725, 3726, 3806, 3807, 3887, 3888, 3968, 3969, 4049, 4050, 4130]\n",
      "[0, 1, 2, 3, 4, 5, 6, 7, 8, 9, 10, 11, 12, 13, 14, 15, 16, 17, 18, 19, 20, 21, 22, 23, 24, 25, 26, 27, 28, 29, 30, 31, 32, 33, 34, 35, 36, 37, 38, 39, 40, 41, 42, 43, 44, 45, 46, 47, 48, 49, 50, 51, 52, 53, 54, 55, 56, 57, 58, 59, 60, 61, 62, 63, 64, 65, 66, 67, 68, 69, 70, 71, 72, 73, 74, 75, 76, 77, 78, 79, 80]\n"
     ]
    }
   ],
   "source": [
    "print(nset)\n",
    "print(nset2)"
   ]
  },
  {
   "cell_type": "code",
   "execution_count": null,
   "metadata": {},
   "outputs": [],
   "source": [
    "# import pandas as pd\n",
    "\n",
    "# df = pd.read_hdf('particles19800.h5', 'table')\n",
    "# print(list(df))\n",
    "# particles_stresses = df[['stress_xx', 'stress_yy', 'stress_zz', 'tau_xy', 'tau_yz', 'tau_xz']].values.tolist()\n",
    "\n",
    "# for key, item in enumerate(particles_stresses):\n",
    "#     print(key, item)\n",
    "\n",
    "# with open(f'result/Slope1-2/particles_stresses2.txt', 'w') as f:\n",
    "#     f.write(f'! {len(particles_stresses)} particle(s) \\n')\n",
    "#     f.write(f'{len(particles_stresses)}\\n')\n",
    "#     for key, item in enumerate(particles_stresses):\n",
    "#         f.write(' '.join([f'{j:.0f}' for j in item]) + '\\n')"
   ]
  }
 ],
 "metadata": {
  "interpreter": {
   "hash": "bb51eb6fd42b57599bc0bb76e27db5b6d3e978e7057c83b5cd5615d3ec0d2b5c"
  },
  "kernelspec": {
   "display_name": "Python 3",
   "language": "python",
   "name": "python3"
  },
  "language_info": {
   "codemirror_mode": {
    "name": "ipython",
    "version": 3
   },
   "file_extension": ".py",
   "mimetype": "text/x-python",
   "name": "python",
   "nbconvert_exporter": "python",
   "pygments_lexer": "ipython3",
   "version": "3.8.10"
  }
 },
 "nbformat": 4,
 "nbformat_minor": 5
}
